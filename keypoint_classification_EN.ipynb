{
 "cells": [
  {
   "cell_type": "code",
   "execution_count": 1,
   "metadata": {
    "id": "igMyGnjE9hEp"
   },
   "outputs": [
    {
     "name": "stdout",
     "output_type": "stream",
     "text": [
      "WARNING:tensorflow:From C:\\Users\\ABDUL\\Desktop\\final project\\hand-gesture-recognition-mediapipe\\.venv\\lib\\site-packages\\keras\\src\\losses.py:2976: The name tf.losses.sparse_softmax_cross_entropy is deprecated. Please use tf.compat.v1.losses.sparse_softmax_cross_entropy instead.\n",
      "\n"
     ]
    }
   ],
   "source": [
    "import csv\n",
    "\n",
    "import numpy as np\n",
    "import tensorflow as tf\n",
    "from sklearn.model_selection import train_test_split\n",
    "\n",
    "RANDOM_SEED = 42"
   ]
  },
  {
   "cell_type": "markdown",
   "metadata": {
    "id": "t2HDvhIu9hEr"
   },
   "source": [
    "# Specify each path"
   ]
  },
  {
   "cell_type": "code",
   "execution_count": 2,
   "metadata": {
    "id": "9NvZP2Zn9hEy"
   },
   "outputs": [],
   "source": [
    "dataset = 'model/keypoint_classifier/keypoint.csv'\n",
    "model_save_path = 'model/keypoint_classifier/keypoint_classifier.hdf5'\n",
    "tflite_save_path = 'model/keypoint_classifier/keypoint_classifier.tflite'"
   ]
  },
  {
   "cell_type": "markdown",
   "metadata": {
    "id": "s5oMH7x19hEz"
   },
   "source": [
    "# Set number of classes"
   ]
  },
  {
   "cell_type": "code",
   "execution_count": 3,
   "metadata": {
    "id": "du4kodXL9hEz"
   },
   "outputs": [],
   "source": [
    "NUM_CLASSES = 5"
   ]
  },
  {
   "cell_type": "markdown",
   "metadata": {
    "id": "XjnL0uso9hEz"
   },
   "source": [
    "# Dataset reading"
   ]
  },
  {
   "cell_type": "code",
   "execution_count": 4,
   "metadata": {
    "id": "QT5ZqtEz9hE0"
   },
   "outputs": [],
   "source": [
    "X_dataset = np.loadtxt(dataset, delimiter=',', dtype='float32', usecols=list(range(1, (21 * 2) + 1)))"
   ]
  },
  {
   "cell_type": "code",
   "execution_count": 5,
   "metadata": {
    "id": "QmoKFsp49hE0"
   },
   "outputs": [],
   "source": [
    "y_dataset = np.loadtxt(dataset, delimiter=',', dtype='int32', usecols=(0))"
   ]
  },
  {
   "cell_type": "code",
   "execution_count": 6,
   "metadata": {
    "id": "xQU7JTZ_9hE0"
   },
   "outputs": [],
   "source": [
    "X_train, X_test, y_train, y_test = train_test_split(X_dataset, y_dataset, train_size=0.75, random_state=RANDOM_SEED)"
   ]
  },
  {
   "cell_type": "markdown",
   "metadata": {
    "id": "mxK_lETT9hE0"
   },
   "source": [
    "# Model building"
   ]
  },
  {
   "cell_type": "code",
   "execution_count": 7,
   "metadata": {
    "id": "vHBmUf1t9hE1"
   },
   "outputs": [
    {
     "name": "stdout",
     "output_type": "stream",
     "text": [
      "WARNING:tensorflow:From C:\\Users\\ABDUL\\Desktop\\final project\\hand-gesture-recognition-mediapipe\\.venv\\lib\\site-packages\\keras\\src\\backend.py:1398: The name tf.executing_eagerly_outside_functions is deprecated. Please use tf.compat.v1.executing_eagerly_outside_functions instead.\n",
      "\n"
     ]
    }
   ],
   "source": [
    "model = tf.keras.models.Sequential([\n",
    "    tf.keras.layers.Input((21 * 2, )),\n",
    "    tf.keras.layers.Dropout(0.2),\n",
    "    tf.keras.layers.Dense(20, activation='relu'),\n",
    "    tf.keras.layers.Dropout(0.4),\n",
    "    tf.keras.layers.Dense(10, activation='relu'),\n",
    "    tf.keras.layers.Dense(NUM_CLASSES, activation='softmax')\n",
    "])"
   ]
  },
  {
   "cell_type": "code",
   "execution_count": 8,
   "metadata": {
    "colab": {
     "base_uri": "https://localhost:8080/"
    },
    "id": "ypqky9tc9hE1",
    "outputId": "5db082bb-30e3-4110-bf63-a1ee777ecd46"
   },
   "outputs": [
    {
     "name": "stdout",
     "output_type": "stream",
     "text": [
      "Model: \"sequential\"\n",
      "_________________________________________________________________\n",
      " Layer (type)                Output Shape              Param #   \n",
      "=================================================================\n",
      " dropout (Dropout)           (None, 42)                0         \n",
      "                                                                 \n",
      " dense (Dense)               (None, 20)                860       \n",
      "                                                                 \n",
      " dropout_1 (Dropout)         (None, 20)                0         \n",
      "                                                                 \n",
      " dense_1 (Dense)             (None, 10)                210       \n",
      "                                                                 \n",
      " dense_2 (Dense)             (None, 5)                 55        \n",
      "                                                                 \n",
      "=================================================================\n",
      "Total params: 1125 (4.39 KB)\n",
      "Trainable params: 1125 (4.39 KB)\n",
      "Non-trainable params: 0 (0.00 Byte)\n",
      "_________________________________________________________________\n"
     ]
    }
   ],
   "source": [
    "model.summary()  # tf.keras.utils.plot_model(model, show_shapes=True)"
   ]
  },
  {
   "cell_type": "code",
   "execution_count": 9,
   "metadata": {
    "id": "MbMjOflQ9hE1"
   },
   "outputs": [],
   "source": [
    "# Model checkpoint callback\n",
    "cp_callback = tf.keras.callbacks.ModelCheckpoint(\n",
    "    model_save_path, verbose=1, save_weights_only=False)\n",
    "# Callback for early stopping\n",
    "es_callback = tf.keras.callbacks.EarlyStopping(patience=20, verbose=1)"
   ]
  },
  {
   "cell_type": "code",
   "execution_count": 10,
   "metadata": {
    "id": "c3Dac0M_9hE2"
   },
   "outputs": [
    {
     "name": "stdout",
     "output_type": "stream",
     "text": [
      "WARNING:tensorflow:From C:\\Users\\ABDUL\\Desktop\\final project\\hand-gesture-recognition-mediapipe\\.venv\\lib\\site-packages\\keras\\src\\optimizers\\__init__.py:309: The name tf.train.Optimizer is deprecated. Please use tf.compat.v1.train.Optimizer instead.\n",
      "\n"
     ]
    }
   ],
   "source": [
    "# Model compilation\n",
    "model.compile(\n",
    "    optimizer='adam',\n",
    "    loss='sparse_categorical_crossentropy',\n",
    "    metrics=['accuracy']\n",
    ")"
   ]
  },
  {
   "cell_type": "markdown",
   "metadata": {
    "id": "7XI0j1Iu9hE2"
   },
   "source": [
    "# Model training"
   ]
  },
  {
   "cell_type": "code",
   "execution_count": 11,
   "metadata": {
    "colab": {
     "base_uri": "https://localhost:8080/"
    },
    "id": "WirBl-JE9hE3",
    "outputId": "71b30ca2-8294-4d9d-8aa2-800d90d399de",
    "scrolled": true
   },
   "outputs": [
    {
     "name": "stdout",
     "output_type": "stream",
     "text": [
      "Epoch 1/1000\n",
      "WARNING:tensorflow:From C:\\Users\\ABDUL\\Desktop\\final project\\hand-gesture-recognition-mediapipe\\.venv\\lib\\site-packages\\keras\\src\\utils\\tf_utils.py:492: The name tf.ragged.RaggedTensorValue is deprecated. Please use tf.compat.v1.ragged.RaggedTensorValue instead.\n",
      "\n",
      "WARNING:tensorflow:From C:\\Users\\ABDUL\\Desktop\\final project\\hand-gesture-recognition-mediapipe\\.venv\\lib\\site-packages\\keras\\src\\engine\\base_layer_utils.py:384: The name tf.executing_eagerly_outside_functions is deprecated. Please use tf.compat.v1.executing_eagerly_outside_functions instead.\n",
      "\n",
      "31/31 [==============================] - ETA: 0s - loss: 1.6661 - accuracy: 0.1963\n",
      "Epoch 1: saving model to model/keypoint_classifier\\keypoint_classifier.hdf5\n",
      "31/31 [==============================] - 3s 26ms/step - loss: 1.6661 - accuracy: 0.1963 - val_loss: 1.4992 - val_accuracy: 0.3746\n",
      "Epoch 2/1000\n",
      "27/31 [=========================>....] - ETA: 0s - loss: 1.5315 - accuracy: 0.3047"
     ]
    },
    {
     "name": "stderr",
     "output_type": "stream",
     "text": [
      "C:\\Users\\ABDUL\\Desktop\\final project\\hand-gesture-recognition-mediapipe\\.venv\\lib\\site-packages\\keras\\src\\engine\\training.py:3103: UserWarning: You are saving your model as an HDF5 file via `model.save()`. This file format is considered legacy. We recommend using instead the native Keras format, e.g. `model.save('my_model.keras')`.\n",
      "  saving_api.save_model(\n"
     ]
    },
    {
     "name": "stdout",
     "output_type": "stream",
     "text": [
      "\n",
      "Epoch 2: saving model to model/keypoint_classifier\\keypoint_classifier.hdf5\n",
      "31/31 [==============================] - 0s 9ms/step - loss: 1.5240 - accuracy: 0.3119 - val_loss: 1.4209 - val_accuracy: 0.4342\n",
      "Epoch 3/1000\n",
      "30/31 [============================>.] - ETA: 0s - loss: 1.4625 - accuracy: 0.3617\n",
      "Epoch 3: saving model to model/keypoint_classifier\\keypoint_classifier.hdf5\n",
      "31/31 [==============================] - 0s 10ms/step - loss: 1.4622 - accuracy: 0.3620 - val_loss: 1.3492 - val_accuracy: 0.4698\n",
      "Epoch 4/1000\n",
      "16/31 [==============>...............] - ETA: 0s - loss: 1.3968 - accuracy: 0.3892\n",
      "Epoch 4: saving model to model/keypoint_classifier\\keypoint_classifier.hdf5\n",
      "31/31 [==============================] - 0s 7ms/step - loss: 1.3862 - accuracy: 0.3958 - val_loss: 1.2622 - val_accuracy: 0.5132\n",
      "Epoch 5/1000\n",
      "15/31 [=============>................] - ETA: 0s - loss: 1.3304 - accuracy: 0.4307\n",
      "Epoch 5: saving model to model/keypoint_classifier\\keypoint_classifier.hdf5\n",
      "31/31 [==============================] - 0s 7ms/step - loss: 1.3208 - accuracy: 0.4355 - val_loss: 1.1788 - val_accuracy: 0.5782\n",
      "Epoch 6/1000\n",
      "17/31 [===============>..............] - ETA: 0s - loss: 1.2696 - accuracy: 0.4632\n",
      "Epoch 6: saving model to model/keypoint_classifier\\keypoint_classifier.hdf5\n",
      "31/31 [==============================] - 0s 7ms/step - loss: 1.2588 - accuracy: 0.4734 - val_loss: 1.1079 - val_accuracy: 0.6293\n",
      "Epoch 7/1000\n",
      "28/31 [==========================>...] - ETA: 0s - loss: 1.2285 - accuracy: 0.4833\n",
      "Epoch 7: saving model to model/keypoint_classifier\\keypoint_classifier.hdf5\n",
      "31/31 [==============================] - 0s 14ms/step - loss: 1.2243 - accuracy: 0.4876 - val_loss: 1.0437 - val_accuracy: 0.6587\n",
      "Epoch 8/1000\n",
      "31/31 [==============================] - ETA: 0s - loss: 1.1765 - accuracy: 0.5028\n",
      "Epoch 8: saving model to model/keypoint_classifier\\keypoint_classifier.hdf5\n",
      "31/31 [==============================] - 0s 10ms/step - loss: 1.1765 - accuracy: 0.5028 - val_loss: 0.9892 - val_accuracy: 0.6889\n",
      "Epoch 9/1000\n",
      "17/31 [===============>..............] - ETA: 0s - loss: 1.1522 - accuracy: 0.5188\n",
      "Epoch 9: saving model to model/keypoint_classifier\\keypoint_classifier.hdf5\n",
      "31/31 [==============================] - 0s 7ms/step - loss: 1.1570 - accuracy: 0.5152 - val_loss: 0.9464 - val_accuracy: 0.7090\n",
      "Epoch 10/1000\n",
      "29/31 [===========================>..] - ETA: 0s - loss: 1.1211 - accuracy: 0.5426\n",
      "Epoch 10: saving model to model/keypoint_classifier\\keypoint_classifier.hdf5\n",
      "31/31 [==============================] - 0s 7ms/step - loss: 1.1157 - accuracy: 0.5459 - val_loss: 0.9041 - val_accuracy: 0.7245\n",
      "Epoch 11/1000\n",
      "27/31 [=========================>....] - ETA: 0s - loss: 1.0869 - accuracy: 0.5509\n",
      "Epoch 11: saving model to model/keypoint_classifier\\keypoint_classifier.hdf5\n",
      "31/31 [==============================] - 1s 17ms/step - loss: 1.0868 - accuracy: 0.5508 - val_loss: 0.8616 - val_accuracy: 0.7260\n",
      "Epoch 12/1000\n",
      "27/31 [=========================>....] - ETA: 0s - loss: 1.0908 - accuracy: 0.5472\n",
      "Epoch 12: saving model to model/keypoint_classifier\\keypoint_classifier.hdf5\n",
      "31/31 [==============================] - 0s 8ms/step - loss: 1.0795 - accuracy: 0.5519 - val_loss: 0.8351 - val_accuracy: 0.7299\n",
      "Epoch 13/1000\n",
      "18/31 [================>.............] - ETA: 0s - loss: 1.0491 - accuracy: 0.5690\n",
      "Epoch 13: saving model to model/keypoint_classifier\\keypoint_classifier.hdf5\n",
      "31/31 [==============================] - 0s 6ms/step - loss: 1.0458 - accuracy: 0.5642 - val_loss: 0.7994 - val_accuracy: 0.7423\n",
      "Epoch 14/1000\n",
      "17/31 [===============>..............] - ETA: 0s - loss: 1.0448 - accuracy: 0.5616\n",
      "Epoch 14: saving model to model/keypoint_classifier\\keypoint_classifier.hdf5\n",
      "31/31 [==============================] - 0s 7ms/step - loss: 1.0253 - accuracy: 0.5740 - val_loss: 0.7689 - val_accuracy: 0.7508\n",
      "Epoch 15/1000\n",
      "12/31 [==========>...................] - ETA: 0s - loss: 1.0177 - accuracy: 0.5677\n",
      "Epoch 15: saving model to model/keypoint_classifier\\keypoint_classifier.hdf5\n",
      "31/31 [==============================] - 0s 7ms/step - loss: 1.0104 - accuracy: 0.5841 - val_loss: 0.7377 - val_accuracy: 0.7562\n",
      "Epoch 16/1000\n",
      "29/31 [===========================>..] - ETA: 0s - loss: 0.9798 - accuracy: 0.5862\n",
      "Epoch 16: saving model to model/keypoint_classifier\\keypoint_classifier.hdf5\n",
      "31/31 [==============================] - 0s 14ms/step - loss: 0.9802 - accuracy: 0.5875 - val_loss: 0.7025 - val_accuracy: 0.7670\n",
      "Epoch 17/1000\n",
      "24/31 [======================>.......] - ETA: 0s - loss: 0.9790 - accuracy: 0.5915\n",
      "Epoch 17: saving model to model/keypoint_classifier\\keypoint_classifier.hdf5\n",
      "31/31 [==============================] - 0s 9ms/step - loss: 0.9765 - accuracy: 0.5957 - val_loss: 0.6833 - val_accuracy: 0.7810\n",
      "Epoch 18/1000\n",
      "27/31 [=========================>....] - ETA: 0s - loss: 0.9511 - accuracy: 0.6152\n",
      "Epoch 18: saving model to model/keypoint_classifier\\keypoint_classifier.hdf5\n",
      "31/31 [==============================] - 0s 9ms/step - loss: 0.9517 - accuracy: 0.6174 - val_loss: 0.6549 - val_accuracy: 0.7864\n",
      "Epoch 19/1000\n",
      "27/31 [=========================>....] - ETA: 0s - loss: 0.9430 - accuracy: 0.6105\n",
      "Epoch 19: saving model to model/keypoint_classifier\\keypoint_classifier.hdf5\n",
      "31/31 [==============================] - 0s 9ms/step - loss: 0.9344 - accuracy: 0.6158 - val_loss: 0.6327 - val_accuracy: 0.8266\n",
      "Epoch 20/1000\n",
      "30/31 [============================>.] - ETA: 0s - loss: 0.9147 - accuracy: 0.6234\n",
      "Epoch 20: saving model to model/keypoint_classifier\\keypoint_classifier.hdf5\n",
      "31/31 [==============================] - 0s 12ms/step - loss: 0.9128 - accuracy: 0.6244 - val_loss: 0.6081 - val_accuracy: 0.8452\n",
      "Epoch 21/1000\n",
      "29/31 [===========================>..] - ETA: 0s - loss: 0.8857 - accuracy: 0.6490\n",
      "Epoch 21: saving model to model/keypoint_classifier\\keypoint_classifier.hdf5\n",
      "31/31 [==============================] - 0s 8ms/step - loss: 0.8849 - accuracy: 0.6486 - val_loss: 0.5790 - val_accuracy: 0.8607\n",
      "Epoch 22/1000\n",
      "29/31 [===========================>..] - ETA: 0s - loss: 0.8896 - accuracy: 0.6420\n",
      "Epoch 22: saving model to model/keypoint_classifier\\keypoint_classifier.hdf5\n",
      "31/31 [==============================] - 0s 9ms/step - loss: 0.8902 - accuracy: 0.6427 - val_loss: 0.5646 - val_accuracy: 0.8824\n",
      "Epoch 23/1000\n",
      "26/31 [========================>.....] - ETA: 0s - loss: 0.8683 - accuracy: 0.6502\n",
      "Epoch 23: saving model to model/keypoint_classifier\\keypoint_classifier.hdf5\n",
      "31/31 [==============================] - 0s 9ms/step - loss: 0.8599 - accuracy: 0.6561 - val_loss: 0.5390 - val_accuracy: 0.8924\n",
      "Epoch 24/1000\n",
      "28/31 [==========================>...] - ETA: 0s - loss: 0.8390 - accuracy: 0.6699\n",
      "Epoch 24: saving model to model/keypoint_classifier\\keypoint_classifier.hdf5\n",
      "31/31 [==============================] - 0s 11ms/step - loss: 0.8406 - accuracy: 0.6695 - val_loss: 0.5198 - val_accuracy: 0.9009\n",
      "Epoch 25/1000\n",
      "23/31 [=====================>........] - ETA: 0s - loss: 0.8464 - accuracy: 0.6579\n",
      "Epoch 25: saving model to model/keypoint_classifier\\keypoint_classifier.hdf5\n",
      "31/31 [==============================] - 0s 9ms/step - loss: 0.8494 - accuracy: 0.6582 - val_loss: 0.5048 - val_accuracy: 0.8978\n",
      "Epoch 26/1000\n",
      "23/31 [=====================>........] - ETA: 0s - loss: 0.8315 - accuracy: 0.6637\n",
      "Epoch 26: saving model to model/keypoint_classifier\\keypoint_classifier.hdf5\n",
      "31/31 [==============================] - 0s 9ms/step - loss: 0.8306 - accuracy: 0.6654 - val_loss: 0.4935 - val_accuracy: 0.9087\n",
      "Epoch 27/1000\n",
      "18/31 [================>.............] - ETA: 0s - loss: 0.8200 - accuracy: 0.6771\n",
      "Epoch 27: saving model to model/keypoint_classifier\\keypoint_classifier.hdf5\n",
      "31/31 [==============================] - 0s 6ms/step - loss: 0.8283 - accuracy: 0.6780 - val_loss: 0.4729 - val_accuracy: 0.9079\n",
      "Epoch 28/1000\n",
      "31/31 [==============================] - ETA: 0s - loss: 0.7950 - accuracy: 0.6876\n",
      "Epoch 28: saving model to model/keypoint_classifier\\keypoint_classifier.hdf5\n",
      "31/31 [==============================] - 0s 9ms/step - loss: 0.7950 - accuracy: 0.6876 - val_loss: 0.4599 - val_accuracy: 0.9087\n",
      "Epoch 29/1000\n",
      "18/31 [================>.............] - ETA: 0s - loss: 0.7932 - accuracy: 0.6797\n",
      "Epoch 29: saving model to model/keypoint_classifier\\keypoint_classifier.hdf5\n",
      "31/31 [==============================] - 0s 9ms/step - loss: 0.7990 - accuracy: 0.6814 - val_loss: 0.4492 - val_accuracy: 0.9249\n",
      "Epoch 30/1000\n",
      "28/31 [==========================>...] - ETA: 0s - loss: 0.7735 - accuracy: 0.7031\n",
      "Epoch 30: saving model to model/keypoint_classifier\\keypoint_classifier.hdf5\n",
      "31/31 [==============================] - 0s 9ms/step - loss: 0.7777 - accuracy: 0.7012 - val_loss: 0.4366 - val_accuracy: 0.9303\n",
      "Epoch 31/1000\n",
      "15/31 [=============>................] - ETA: 0s - loss: 0.8011 - accuracy: 0.6818\n",
      "Epoch 31: saving model to model/keypoint_classifier\\keypoint_classifier.hdf5\n",
      "31/31 [==============================] - 0s 7ms/step - loss: 0.7969 - accuracy: 0.6842 - val_loss: 0.4301 - val_accuracy: 0.9303\n",
      "Epoch 32/1000\n",
      "29/31 [===========================>..] - ETA: 0s - loss: 0.7545 - accuracy: 0.7082\n",
      "Epoch 32: saving model to model/keypoint_classifier\\keypoint_classifier.hdf5\n",
      "31/31 [==============================] - 0s 9ms/step - loss: 0.7549 - accuracy: 0.7095 - val_loss: 0.4137 - val_accuracy: 0.9327\n",
      "Epoch 33/1000\n",
      "22/31 [====================>.........] - ETA: 0s - loss: 0.7696 - accuracy: 0.6950\n",
      "Epoch 33: saving model to model/keypoint_classifier\\keypoint_classifier.hdf5\n",
      "31/31 [==============================] - 0s 9ms/step - loss: 0.7650 - accuracy: 0.6994 - val_loss: 0.4015 - val_accuracy: 0.9358\n",
      "Epoch 34/1000\n",
      "17/31 [===============>..............] - ETA: 0s - loss: 0.7819 - accuracy: 0.6884\n",
      "Epoch 34: saving model to model/keypoint_classifier\\keypoint_classifier.hdf5\n",
      "31/31 [==============================] - 0s 6ms/step - loss: 0.7561 - accuracy: 0.7030 - val_loss: 0.4034 - val_accuracy: 0.9365\n",
      "Epoch 35/1000\n",
      "29/31 [===========================>..] - ETA: 0s - loss: 0.7578 - accuracy: 0.7082\n",
      "Epoch 35: saving model to model/keypoint_classifier\\keypoint_classifier.hdf5\n",
      "31/31 [==============================] - 0s 7ms/step - loss: 0.7532 - accuracy: 0.7105 - val_loss: 0.3946 - val_accuracy: 0.9443\n",
      "Epoch 36/1000\n",
      "15/31 [=============>................] - ETA: 0s - loss: 0.7711 - accuracy: 0.7125\n",
      "Epoch 36: saving model to model/keypoint_classifier\\keypoint_classifier.hdf5\n",
      "31/31 [==============================] - 0s 7ms/step - loss: 0.7502 - accuracy: 0.7170 - val_loss: 0.3893 - val_accuracy: 0.9396\n",
      "Epoch 37/1000\n",
      "31/31 [==============================] - ETA: 0s - loss: 0.7415 - accuracy: 0.7128\n",
      "Epoch 37: saving model to model/keypoint_classifier\\keypoint_classifier.hdf5\n",
      "31/31 [==============================] - 0s 7ms/step - loss: 0.7415 - accuracy: 0.7128 - val_loss: 0.3803 - val_accuracy: 0.9412\n",
      "Epoch 38/1000\n",
      "22/31 [====================>.........] - ETA: 0s - loss: 0.7190 - accuracy: 0.7141\n",
      "Epoch 38: saving model to model/keypoint_classifier\\keypoint_classifier.hdf5\n",
      "31/31 [==============================] - 0s 9ms/step - loss: 0.7397 - accuracy: 0.7105 - val_loss: 0.3692 - val_accuracy: 0.9458\n",
      "Epoch 39/1000\n",
      "26/31 [========================>.....] - ETA: 0s - loss: 0.7277 - accuracy: 0.7257\n",
      "Epoch 39: saving model to model/keypoint_classifier\\keypoint_classifier.hdf5\n",
      "31/31 [==============================] - 0s 8ms/step - loss: 0.7252 - accuracy: 0.7276 - val_loss: 0.3636 - val_accuracy: 0.9497\n",
      "Epoch 40/1000\n",
      "29/31 [===========================>..] - ETA: 0s - loss: 0.7019 - accuracy: 0.7328\n",
      "Epoch 40: saving model to model/keypoint_classifier\\keypoint_classifier.hdf5\n",
      "31/31 [==============================] - 0s 7ms/step - loss: 0.7074 - accuracy: 0.7288 - val_loss: 0.3498 - val_accuracy: 0.9497\n",
      "Epoch 41/1000\n",
      "29/31 [===========================>..] - ETA: 0s - loss: 0.7239 - accuracy: 0.7177\n",
      "Epoch 41: saving model to model/keypoint_classifier\\keypoint_classifier.hdf5\n",
      "31/31 [==============================] - 0s 10ms/step - loss: 0.7206 - accuracy: 0.7206 - val_loss: 0.3464 - val_accuracy: 0.9497\n",
      "Epoch 42/1000\n",
      "14/31 [============>.................] - ETA: 0s - loss: 0.7250 - accuracy: 0.7215\n",
      "Epoch 42: saving model to model/keypoint_classifier\\keypoint_classifier.hdf5\n",
      "31/31 [==============================] - 0s 8ms/step - loss: 0.7153 - accuracy: 0.7281 - val_loss: 0.3400 - val_accuracy: 0.9520\n",
      "Epoch 43/1000\n",
      "28/31 [==========================>...] - ETA: 0s - loss: 0.7038 - accuracy: 0.7229\n",
      "Epoch 43: saving model to model/keypoint_classifier\\keypoint_classifier.hdf5\n",
      "31/31 [==============================] - 0s 7ms/step - loss: 0.7058 - accuracy: 0.7219 - val_loss: 0.3359 - val_accuracy: 0.9497\n",
      "Epoch 44/1000\n",
      "17/31 [===============>..............] - ETA: 0s - loss: 0.7324 - accuracy: 0.7146\n",
      "Epoch 44: saving model to model/keypoint_classifier\\keypoint_classifier.hdf5\n",
      "31/31 [==============================] - 0s 6ms/step - loss: 0.7169 - accuracy: 0.7239 - val_loss: 0.3317 - val_accuracy: 0.9505\n",
      "Epoch 45/1000\n",
      "16/31 [==============>...............] - ETA: 0s - loss: 0.6844 - accuracy: 0.7314\n",
      "Epoch 45: saving model to model/keypoint_classifier\\keypoint_classifier.hdf5\n",
      "31/31 [==============================] - 0s 6ms/step - loss: 0.7095 - accuracy: 0.7208 - val_loss: 0.3272 - val_accuracy: 0.9505\n",
      "Epoch 46/1000\n",
      "29/31 [===========================>..] - ETA: 0s - loss: 0.7078 - accuracy: 0.7333\n",
      "Epoch 46: saving model to model/keypoint_classifier\\keypoint_classifier.hdf5\n",
      "31/31 [==============================] - 0s 7ms/step - loss: 0.7057 - accuracy: 0.7340 - val_loss: 0.3290 - val_accuracy: 0.9474\n",
      "Epoch 47/1000\n",
      "16/31 [==============>...............] - ETA: 0s - loss: 0.7126 - accuracy: 0.7261\n",
      "Epoch 47: saving model to model/keypoint_classifier\\keypoint_classifier.hdf5\n",
      "31/31 [==============================] - 0s 7ms/step - loss: 0.7155 - accuracy: 0.7263 - val_loss: 0.3276 - val_accuracy: 0.9489\n",
      "Epoch 48/1000\n",
      "30/31 [============================>.] - ETA: 0s - loss: 0.7292 - accuracy: 0.7203\n",
      "Epoch 48: saving model to model/keypoint_classifier\\keypoint_classifier.hdf5\n",
      "31/31 [==============================] - 0s 10ms/step - loss: 0.7261 - accuracy: 0.7221 - val_loss: 0.3288 - val_accuracy: 0.9497\n",
      "Epoch 49/1000\n",
      "30/31 [============================>.] - ETA: 0s - loss: 0.6856 - accuracy: 0.7406\n",
      "Epoch 49: saving model to model/keypoint_classifier\\keypoint_classifier.hdf5\n",
      "31/31 [==============================] - 0s 7ms/step - loss: 0.6834 - accuracy: 0.7420 - val_loss: 0.3177 - val_accuracy: 0.9497\n",
      "Epoch 50/1000\n",
      "29/31 [===========================>..] - ETA: 0s - loss: 0.6988 - accuracy: 0.7381\n",
      "Epoch 50: saving model to model/keypoint_classifier\\keypoint_classifier.hdf5\n",
      "31/31 [==============================] - 0s 8ms/step - loss: 0.6956 - accuracy: 0.7386 - val_loss: 0.3069 - val_accuracy: 0.9520\n",
      "Epoch 51/1000\n",
      "15/31 [=============>................] - ETA: 0s - loss: 0.6786 - accuracy: 0.7495\n",
      "Epoch 51: saving model to model/keypoint_classifier\\keypoint_classifier.hdf5\n",
      "31/31 [==============================] - 0s 6ms/step - loss: 0.6939 - accuracy: 0.7407 - val_loss: 0.3070 - val_accuracy: 0.9512\n",
      "Epoch 52/1000\n",
      "20/31 [==================>...........] - ETA: 0s - loss: 0.6591 - accuracy: 0.7590\n",
      "Epoch 52: saving model to model/keypoint_classifier\\keypoint_classifier.hdf5\n",
      "31/31 [==============================] - 0s 11ms/step - loss: 0.6666 - accuracy: 0.7515 - val_loss: 0.3045 - val_accuracy: 0.9551\n",
      "Epoch 53/1000\n",
      "22/31 [====================>.........] - ETA: 0s - loss: 0.7006 - accuracy: 0.7344\n",
      "Epoch 53: saving model to model/keypoint_classifier\\keypoint_classifier.hdf5\n",
      "31/31 [==============================] - 0s 8ms/step - loss: 0.6862 - accuracy: 0.7381 - val_loss: 0.3035 - val_accuracy: 0.9528\n",
      "Epoch 54/1000\n",
      "17/31 [===============>..............] - ETA: 0s - loss: 0.6941 - accuracy: 0.7335\n",
      "Epoch 54: saving model to model/keypoint_classifier\\keypoint_classifier.hdf5\n",
      "31/31 [==============================] - 0s 6ms/step - loss: 0.6800 - accuracy: 0.7425 - val_loss: 0.2983 - val_accuracy: 0.9528\n",
      "Epoch 55/1000\n",
      "31/31 [==============================] - ETA: 0s - loss: 0.6587 - accuracy: 0.7531\n",
      "Epoch 55: saving model to model/keypoint_classifier\\keypoint_classifier.hdf5\n",
      "31/31 [==============================] - 0s 7ms/step - loss: 0.6587 - accuracy: 0.7531 - val_loss: 0.2982 - val_accuracy: 0.9450\n",
      "Epoch 56/1000\n",
      "16/31 [==============>...............] - ETA: 0s - loss: 0.6646 - accuracy: 0.7500\n",
      "Epoch 56: saving model to model/keypoint_classifier\\keypoint_classifier.hdf5\n",
      "31/31 [==============================] - 0s 7ms/step - loss: 0.6620 - accuracy: 0.7505 - val_loss: 0.2888 - val_accuracy: 0.9536\n",
      "Epoch 57/1000\n",
      "15/31 [=============>................] - ETA: 0s - loss: 0.6891 - accuracy: 0.7344\n",
      "Epoch 57: saving model to model/keypoint_classifier\\keypoint_classifier.hdf5\n",
      "31/31 [==============================] - 0s 7ms/step - loss: 0.6713 - accuracy: 0.7443 - val_loss: 0.3002 - val_accuracy: 0.9582\n",
      "Epoch 58/1000\n",
      "28/31 [==========================>...] - ETA: 0s - loss: 0.6724 - accuracy: 0.7478\n",
      "Epoch 58: saving model to model/keypoint_classifier\\keypoint_classifier.hdf5\n",
      "31/31 [==============================] - 0s 11ms/step - loss: 0.6735 - accuracy: 0.7474 - val_loss: 0.2939 - val_accuracy: 0.9551\n",
      "Epoch 59/1000\n",
      "31/31 [==============================] - ETA: 0s - loss: 0.6373 - accuracy: 0.7670\n",
      "Epoch 59: saving model to model/keypoint_classifier\\keypoint_classifier.hdf5\n",
      "31/31 [==============================] - 0s 7ms/step - loss: 0.6373 - accuracy: 0.7670 - val_loss: 0.2823 - val_accuracy: 0.9582\n",
      "Epoch 60/1000\n",
      "29/31 [===========================>..] - ETA: 0s - loss: 0.6586 - accuracy: 0.7508\n",
      "Epoch 60: saving model to model/keypoint_classifier\\keypoint_classifier.hdf5\n",
      "31/31 [==============================] - 0s 7ms/step - loss: 0.6637 - accuracy: 0.7490 - val_loss: 0.2835 - val_accuracy: 0.9536\n",
      "Epoch 61/1000\n",
      "31/31 [==============================] - ETA: 0s - loss: 0.6483 - accuracy: 0.7598\n",
      "Epoch 61: saving model to model/keypoint_classifier\\keypoint_classifier.hdf5\n",
      "31/31 [==============================] - 0s 10ms/step - loss: 0.6483 - accuracy: 0.7598 - val_loss: 0.2814 - val_accuracy: 0.9644\n",
      "Epoch 62/1000\n",
      "31/31 [==============================] - ETA: 0s - loss: 0.6443 - accuracy: 0.7585\n",
      "Epoch 62: saving model to model/keypoint_classifier\\keypoint_classifier.hdf5\n",
      "31/31 [==============================] - 0s 9ms/step - loss: 0.6443 - accuracy: 0.7585 - val_loss: 0.2776 - val_accuracy: 0.9659\n",
      "Epoch 63/1000\n",
      "28/31 [==========================>...] - ETA: 0s - loss: 0.6606 - accuracy: 0.7525\n",
      "Epoch 63: saving model to model/keypoint_classifier\\keypoint_classifier.hdf5\n",
      "31/31 [==============================] - 0s 7ms/step - loss: 0.6688 - accuracy: 0.7510 - val_loss: 0.2758 - val_accuracy: 0.9621\n",
      "Epoch 64/1000\n",
      "17/31 [===============>..............] - ETA: 0s - loss: 0.6220 - accuracy: 0.7679\n",
      "Epoch 64: saving model to model/keypoint_classifier\\keypoint_classifier.hdf5\n",
      "31/31 [==============================] - 0s 7ms/step - loss: 0.6390 - accuracy: 0.7621 - val_loss: 0.2782 - val_accuracy: 0.9590\n",
      "Epoch 65/1000\n",
      "30/31 [============================>.] - ETA: 0s - loss: 0.6586 - accuracy: 0.7513\n",
      "Epoch 65: saving model to model/keypoint_classifier\\keypoint_classifier.hdf5\n",
      "31/31 [==============================] - 0s 7ms/step - loss: 0.6582 - accuracy: 0.7508 - val_loss: 0.2750 - val_accuracy: 0.9551\n",
      "Epoch 66/1000\n",
      "16/31 [==============>...............] - ETA: 0s - loss: 0.6525 - accuracy: 0.7656\n",
      "Epoch 66: saving model to model/keypoint_classifier\\keypoint_classifier.hdf5\n",
      "31/31 [==============================] - 0s 7ms/step - loss: 0.6494 - accuracy: 0.7634 - val_loss: 0.2866 - val_accuracy: 0.9505\n",
      "Epoch 67/1000\n",
      "16/31 [==============>...............] - ETA: 0s - loss: 0.6306 - accuracy: 0.7671\n",
      "Epoch 67: saving model to model/keypoint_classifier\\keypoint_classifier.hdf5\n",
      "31/31 [==============================] - 0s 7ms/step - loss: 0.6296 - accuracy: 0.7732 - val_loss: 0.2674 - val_accuracy: 0.9628\n",
      "Epoch 68/1000\n",
      "30/31 [============================>.] - ETA: 0s - loss: 0.6198 - accuracy: 0.7768\n",
      "Epoch 68: saving model to model/keypoint_classifier\\keypoint_classifier.hdf5\n",
      "31/31 [==============================] - 0s 10ms/step - loss: 0.6197 - accuracy: 0.7773 - val_loss: 0.2677 - val_accuracy: 0.9559\n",
      "Epoch 69/1000\n",
      "19/31 [=================>............] - ETA: 0s - loss: 0.6322 - accuracy: 0.7586\n",
      "Epoch 69: saving model to model/keypoint_classifier\\keypoint_classifier.hdf5\n",
      "31/31 [==============================] - 0s 10ms/step - loss: 0.6304 - accuracy: 0.7585 - val_loss: 0.2546 - val_accuracy: 0.9659\n",
      "Epoch 70/1000\n",
      "16/31 [==============>...............] - ETA: 0s - loss: 0.6242 - accuracy: 0.7617\n",
      "Epoch 70: saving model to model/keypoint_classifier\\keypoint_classifier.hdf5\n",
      "31/31 [==============================] - 0s 6ms/step - loss: 0.6207 - accuracy: 0.7639 - val_loss: 0.2536 - val_accuracy: 0.9683\n",
      "Epoch 71/1000\n",
      "29/31 [===========================>..] - ETA: 0s - loss: 0.6235 - accuracy: 0.7629\n",
      "Epoch 71: saving model to model/keypoint_classifier\\keypoint_classifier.hdf5\n",
      "31/31 [==============================] - 0s 7ms/step - loss: 0.6278 - accuracy: 0.7616 - val_loss: 0.2715 - val_accuracy: 0.9543\n",
      "Epoch 72/1000\n",
      "31/31 [==============================] - ETA: 0s - loss: 0.6494 - accuracy: 0.7577\n",
      "Epoch 72: saving model to model/keypoint_classifier\\keypoint_classifier.hdf5\n",
      "31/31 [==============================] - 0s 10ms/step - loss: 0.6494 - accuracy: 0.7577 - val_loss: 0.2643 - val_accuracy: 0.9706\n",
      "Epoch 73/1000\n",
      "25/31 [=======================>......] - ETA: 0s - loss: 0.6337 - accuracy: 0.7663\n",
      "Epoch 73: saving model to model/keypoint_classifier\\keypoint_classifier.hdf5\n",
      "31/31 [==============================] - 0s 8ms/step - loss: 0.6342 - accuracy: 0.7639 - val_loss: 0.2608 - val_accuracy: 0.9613\n",
      "Epoch 74/1000\n",
      "31/31 [==============================] - ETA: 0s - loss: 0.6286 - accuracy: 0.7670\n",
      "Epoch 74: saving model to model/keypoint_classifier\\keypoint_classifier.hdf5\n",
      "31/31 [==============================] - 0s 7ms/step - loss: 0.6286 - accuracy: 0.7670 - val_loss: 0.2539 - val_accuracy: 0.9667\n",
      "Epoch 75/1000\n",
      "19/31 [=================>............] - ETA: 0s - loss: 0.6443 - accuracy: 0.7648\n",
      "Epoch 75: saving model to model/keypoint_classifier\\keypoint_classifier.hdf5\n",
      "31/31 [==============================] - 0s 7ms/step - loss: 0.6368 - accuracy: 0.7626 - val_loss: 0.2547 - val_accuracy: 0.9659\n",
      "Epoch 76/1000\n",
      "24/31 [======================>.......] - ETA: 0s - loss: 0.6334 - accuracy: 0.7578\n",
      "Epoch 76: saving model to model/keypoint_classifier\\keypoint_classifier.hdf5\n",
      "31/31 [==============================] - 0s 10ms/step - loss: 0.6381 - accuracy: 0.7601 - val_loss: 0.2624 - val_accuracy: 0.9605\n",
      "Epoch 77/1000\n",
      "21/31 [===================>..........] - ETA: 0s - loss: 0.6170 - accuracy: 0.7783\n",
      "Epoch 77: saving model to model/keypoint_classifier\\keypoint_classifier.hdf5\n",
      "31/31 [==============================] - 0s 12ms/step - loss: 0.6210 - accuracy: 0.7748 - val_loss: 0.2604 - val_accuracy: 0.9659\n",
      "Epoch 78/1000\n",
      "18/31 [================>.............] - ETA: 0s - loss: 0.6188 - accuracy: 0.7704\n",
      "Epoch 78: saving model to model/keypoint_classifier\\keypoint_classifier.hdf5\n",
      "31/31 [==============================] - 0s 7ms/step - loss: 0.6235 - accuracy: 0.7657 - val_loss: 0.2508 - val_accuracy: 0.9729\n",
      "Epoch 79/1000\n",
      "30/31 [============================>.] - ETA: 0s - loss: 0.6319 - accuracy: 0.7599\n",
      "Epoch 79: saving model to model/keypoint_classifier\\keypoint_classifier.hdf5\n",
      "31/31 [==============================] - 0s 7ms/step - loss: 0.6298 - accuracy: 0.7611 - val_loss: 0.2583 - val_accuracy: 0.9598\n",
      "Epoch 80/1000\n",
      "17/31 [===============>..............] - ETA: 0s - loss: 0.6614 - accuracy: 0.7601\n",
      "Epoch 80: saving model to model/keypoint_classifier\\keypoint_classifier.hdf5\n",
      "31/31 [==============================] - 0s 6ms/step - loss: 0.6437 - accuracy: 0.7647 - val_loss: 0.2616 - val_accuracy: 0.9605\n",
      "Epoch 81/1000\n",
      "16/31 [==============>...............] - ETA: 0s - loss: 0.6173 - accuracy: 0.7778\n",
      "Epoch 81: saving model to model/keypoint_classifier\\keypoint_classifier.hdf5\n",
      "31/31 [==============================] - 0s 6ms/step - loss: 0.6130 - accuracy: 0.7768 - val_loss: 0.2437 - val_accuracy: 0.9752\n",
      "Epoch 82/1000\n",
      "22/31 [====================>.........] - ETA: 0s - loss: 0.5988 - accuracy: 0.7766\n",
      "Epoch 82: saving model to model/keypoint_classifier\\keypoint_classifier.hdf5\n",
      "31/31 [==============================] - 0s 9ms/step - loss: 0.6113 - accuracy: 0.7727 - val_loss: 0.2532 - val_accuracy: 0.9582\n",
      "Epoch 83/1000\n",
      "24/31 [======================>.......] - ETA: 0s - loss: 0.6122 - accuracy: 0.7773\n",
      "Epoch 83: saving model to model/keypoint_classifier\\keypoint_classifier.hdf5\n",
      "31/31 [==============================] - 0s 9ms/step - loss: 0.6148 - accuracy: 0.7763 - val_loss: 0.2480 - val_accuracy: 0.9683\n",
      "Epoch 84/1000\n",
      "18/31 [================>.............] - ETA: 0s - loss: 0.6074 - accuracy: 0.7721\n",
      "Epoch 84: saving model to model/keypoint_classifier\\keypoint_classifier.hdf5\n",
      "31/31 [==============================] - 0s 6ms/step - loss: 0.6179 - accuracy: 0.7730 - val_loss: 0.2474 - val_accuracy: 0.9690\n",
      "Epoch 85/1000\n",
      "30/31 [============================>.] - ETA: 0s - loss: 0.6049 - accuracy: 0.7810\n",
      "Epoch 85: saving model to model/keypoint_classifier\\keypoint_classifier.hdf5\n",
      "31/31 [==============================] - 0s 7ms/step - loss: 0.6065 - accuracy: 0.7804 - val_loss: 0.2522 - val_accuracy: 0.9621\n",
      "Epoch 86/1000\n",
      "27/31 [=========================>....] - ETA: 0s - loss: 0.6107 - accuracy: 0.7760\n",
      "Epoch 86: saving model to model/keypoint_classifier\\keypoint_classifier.hdf5\n",
      "31/31 [==============================] - 0s 9ms/step - loss: 0.6185 - accuracy: 0.7730 - val_loss: 0.2470 - val_accuracy: 0.9698\n",
      "Epoch 87/1000\n",
      "25/31 [=======================>......] - ETA: 0s - loss: 0.6089 - accuracy: 0.7747\n",
      "Epoch 87: saving model to model/keypoint_classifier\\keypoint_classifier.hdf5\n",
      "31/31 [==============================] - 0s 12ms/step - loss: 0.6088 - accuracy: 0.7755 - val_loss: 0.2484 - val_accuracy: 0.9714\n",
      "Epoch 88/1000\n",
      "29/31 [===========================>..] - ETA: 0s - loss: 0.6226 - accuracy: 0.7667\n",
      "Epoch 88: saving model to model/keypoint_classifier\\keypoint_classifier.hdf5\n",
      "31/31 [==============================] - 0s 7ms/step - loss: 0.6218 - accuracy: 0.7655 - val_loss: 0.2482 - val_accuracy: 0.9598\n",
      "Epoch 89/1000\n",
      "30/31 [============================>.] - ETA: 0s - loss: 0.5982 - accuracy: 0.7779\n",
      "Epoch 89: saving model to model/keypoint_classifier\\keypoint_classifier.hdf5\n",
      "31/31 [==============================] - 0s 11ms/step - loss: 0.5975 - accuracy: 0.7781 - val_loss: 0.2419 - val_accuracy: 0.9644\n",
      "Epoch 90/1000\n",
      "31/31 [==============================] - ETA: 0s - loss: 0.5962 - accuracy: 0.7712\n",
      "Epoch 90: saving model to model/keypoint_classifier\\keypoint_classifier.hdf5\n",
      "31/31 [==============================] - 0s 9ms/step - loss: 0.5962 - accuracy: 0.7712 - val_loss: 0.2381 - val_accuracy: 0.9652\n",
      "Epoch 91/1000\n",
      "28/31 [==========================>...] - ETA: 0s - loss: 0.6160 - accuracy: 0.7715\n",
      "Epoch 91: saving model to model/keypoint_classifier\\keypoint_classifier.hdf5\n",
      "31/31 [==============================] - 0s 10ms/step - loss: 0.6148 - accuracy: 0.7714 - val_loss: 0.2462 - val_accuracy: 0.9598\n",
      "Epoch 92/1000\n",
      "28/31 [==========================>...] - ETA: 0s - loss: 0.6158 - accuracy: 0.7670\n",
      "Epoch 92: saving model to model/keypoint_classifier\\keypoint_classifier.hdf5\n",
      "31/31 [==============================] - 0s 7ms/step - loss: 0.6109 - accuracy: 0.7709 - val_loss: 0.2475 - val_accuracy: 0.9659\n",
      "Epoch 93/1000\n",
      "26/31 [========================>.....] - ETA: 0s - loss: 0.6051 - accuracy: 0.7779\n",
      "Epoch 93: saving model to model/keypoint_classifier\\keypoint_classifier.hdf5\n",
      "31/31 [==============================] - 0s 8ms/step - loss: 0.6066 - accuracy: 0.7784 - val_loss: 0.2414 - val_accuracy: 0.9706\n",
      "Epoch 94/1000\n",
      "25/31 [=======================>......] - ETA: 0s - loss: 0.5896 - accuracy: 0.7831\n",
      "Epoch 94: saving model to model/keypoint_classifier\\keypoint_classifier.hdf5\n",
      "31/31 [==============================] - 0s 11ms/step - loss: 0.5977 - accuracy: 0.7812 - val_loss: 0.2370 - val_accuracy: 0.9667\n",
      "Epoch 95/1000\n",
      "30/31 [============================>.] - ETA: 0s - loss: 0.6152 - accuracy: 0.7789\n",
      "Epoch 95: saving model to model/keypoint_classifier\\keypoint_classifier.hdf5\n",
      "31/31 [==============================] - 0s 14ms/step - loss: 0.6151 - accuracy: 0.7779 - val_loss: 0.2434 - val_accuracy: 0.9659\n",
      "Epoch 96/1000\n",
      "20/31 [==================>...........] - ETA: 0s - loss: 0.5847 - accuracy: 0.7824\n",
      "Epoch 96: saving model to model/keypoint_classifier\\keypoint_classifier.hdf5\n",
      "31/31 [==============================] - 0s 10ms/step - loss: 0.5916 - accuracy: 0.7828 - val_loss: 0.2351 - val_accuracy: 0.9683\n",
      "Epoch 97/1000\n",
      "29/31 [===========================>..] - ETA: 0s - loss: 0.5791 - accuracy: 0.7904\n",
      "Epoch 97: saving model to model/keypoint_classifier\\keypoint_classifier.hdf5\n",
      "31/31 [==============================] - 0s 8ms/step - loss: 0.5801 - accuracy: 0.7913 - val_loss: 0.2366 - val_accuracy: 0.9636\n",
      "Epoch 98/1000\n",
      "26/31 [========================>.....] - ETA: 0s - loss: 0.6197 - accuracy: 0.7749\n",
      "Epoch 98: saving model to model/keypoint_classifier\\keypoint_classifier.hdf5\n",
      "31/31 [==============================] - 0s 11ms/step - loss: 0.6135 - accuracy: 0.7771 - val_loss: 0.2450 - val_accuracy: 0.9567\n",
      "Epoch 99/1000\n",
      "27/31 [=========================>....] - ETA: 0s - loss: 0.5943 - accuracy: 0.7821\n",
      "Epoch 99: saving model to model/keypoint_classifier\\keypoint_classifier.hdf5\n",
      "31/31 [==============================] - 0s 10ms/step - loss: 0.5916 - accuracy: 0.7833 - val_loss: 0.2345 - val_accuracy: 0.9659\n",
      "Epoch 100/1000\n",
      "30/31 [============================>.] - ETA: 0s - loss: 0.5722 - accuracy: 0.7852\n",
      "Epoch 100: saving model to model/keypoint_classifier\\keypoint_classifier.hdf5\n",
      "31/31 [==============================] - 0s 7ms/step - loss: 0.5721 - accuracy: 0.7853 - val_loss: 0.2382 - val_accuracy: 0.9621\n",
      "Epoch 101/1000\n",
      "31/31 [==============================] - ETA: 0s - loss: 0.5998 - accuracy: 0.7766\n",
      "Epoch 101: saving model to model/keypoint_classifier\\keypoint_classifier.hdf5\n",
      "31/31 [==============================] - 0s 8ms/step - loss: 0.5998 - accuracy: 0.7766 - val_loss: 0.2386 - val_accuracy: 0.9613\n",
      "Epoch 102/1000\n",
      "23/31 [=====================>........] - ETA: 0s - loss: 0.5786 - accuracy: 0.7867\n",
      "Epoch 102: saving model to model/keypoint_classifier\\keypoint_classifier.hdf5\n",
      "31/31 [==============================] - 0s 8ms/step - loss: 0.5816 - accuracy: 0.7853 - val_loss: 0.2349 - val_accuracy: 0.9667\n",
      "Epoch 103/1000\n",
      "22/31 [====================>.........] - ETA: 0s - loss: 0.5939 - accuracy: 0.7869\n",
      "Epoch 103: saving model to model/keypoint_classifier\\keypoint_classifier.hdf5\n",
      "31/31 [==============================] - 1s 21ms/step - loss: 0.5931 - accuracy: 0.7859 - val_loss: 0.2281 - val_accuracy: 0.9690\n",
      "Epoch 104/1000\n",
      "30/31 [============================>.] - ETA: 0s - loss: 0.5801 - accuracy: 0.7849\n",
      "Epoch 104: saving model to model/keypoint_classifier\\keypoint_classifier.hdf5\n",
      "31/31 [==============================] - 0s 11ms/step - loss: 0.5801 - accuracy: 0.7851 - val_loss: 0.2344 - val_accuracy: 0.9605\n",
      "Epoch 105/1000\n",
      "28/31 [==========================>...] - ETA: 0s - loss: 0.5931 - accuracy: 0.7807\n",
      "Epoch 105: saving model to model/keypoint_classifier\\keypoint_classifier.hdf5\n",
      "31/31 [==============================] - 0s 8ms/step - loss: 0.5918 - accuracy: 0.7825 - val_loss: 0.2369 - val_accuracy: 0.9652\n",
      "Epoch 106/1000\n",
      "26/31 [========================>.....] - ETA: 0s - loss: 0.5890 - accuracy: 0.7809\n",
      "Epoch 106: saving model to model/keypoint_classifier\\keypoint_classifier.hdf5\n",
      "31/31 [==============================] - 0s 8ms/step - loss: 0.5860 - accuracy: 0.7807 - val_loss: 0.2398 - val_accuracy: 0.9636\n",
      "Epoch 107/1000\n",
      "26/31 [========================>.....] - ETA: 0s - loss: 0.5660 - accuracy: 0.7897\n",
      "Epoch 107: saving model to model/keypoint_classifier\\keypoint_classifier.hdf5\n",
      "31/31 [==============================] - 0s 11ms/step - loss: 0.5689 - accuracy: 0.7869 - val_loss: 0.2264 - val_accuracy: 0.9675\n",
      "Epoch 108/1000\n",
      "22/31 [====================>.........] - ETA: 0s - loss: 0.5948 - accuracy: 0.7852\n",
      "Epoch 108: saving model to model/keypoint_classifier\\keypoint_classifier.hdf5\n",
      "31/31 [==============================] - 0s 10ms/step - loss: 0.5976 - accuracy: 0.7797 - val_loss: 0.2271 - val_accuracy: 0.9675\n",
      "Epoch 109/1000\n",
      "23/31 [=====================>........] - ETA: 0s - loss: 0.5640 - accuracy: 0.7959\n",
      "Epoch 109: saving model to model/keypoint_classifier\\keypoint_classifier.hdf5\n",
      "31/31 [==============================] - 0s 9ms/step - loss: 0.5672 - accuracy: 0.7921 - val_loss: 0.2272 - val_accuracy: 0.9675\n",
      "Epoch 110/1000\n",
      "31/31 [==============================] - ETA: 0s - loss: 0.5946 - accuracy: 0.7830\n",
      "Epoch 110: saving model to model/keypoint_classifier\\keypoint_classifier.hdf5\n",
      "31/31 [==============================] - 0s 12ms/step - loss: 0.5946 - accuracy: 0.7830 - val_loss: 0.2304 - val_accuracy: 0.9644\n",
      "Epoch 111/1000\n",
      "29/31 [===========================>..] - ETA: 0s - loss: 0.5643 - accuracy: 0.7955\n",
      "Epoch 111: saving model to model/keypoint_classifier\\keypoint_classifier.hdf5\n",
      "31/31 [==============================] - 0s 15ms/step - loss: 0.5692 - accuracy: 0.7921 - val_loss: 0.2353 - val_accuracy: 0.9628\n",
      "Epoch 112/1000\n",
      "20/31 [==================>...........] - ETA: 0s - loss: 0.5884 - accuracy: 0.7797\n",
      "Epoch 112: saving model to model/keypoint_classifier\\keypoint_classifier.hdf5\n",
      "31/31 [==============================] - 0s 9ms/step - loss: 0.5919 - accuracy: 0.7812 - val_loss: 0.2303 - val_accuracy: 0.9636\n",
      "Epoch 113/1000\n",
      "16/31 [==============>...............] - ETA: 0s - loss: 0.5672 - accuracy: 0.7896\n",
      "Epoch 113: saving model to model/keypoint_classifier\\keypoint_classifier.hdf5\n",
      "31/31 [==============================] - 0s 7ms/step - loss: 0.5720 - accuracy: 0.7846 - val_loss: 0.2293 - val_accuracy: 0.9652\n",
      "Epoch 114/1000\n",
      "24/31 [======================>.......] - ETA: 0s - loss: 0.5672 - accuracy: 0.7920\n",
      "Epoch 114: saving model to model/keypoint_classifier\\keypoint_classifier.hdf5\n",
      "31/31 [==============================] - 0s 11ms/step - loss: 0.5646 - accuracy: 0.7954 - val_loss: 0.2205 - val_accuracy: 0.9690\n",
      "Epoch 115/1000\n",
      "21/31 [===================>..........] - ETA: 0s - loss: 0.5836 - accuracy: 0.7801\n",
      "Epoch 115: saving model to model/keypoint_classifier\\keypoint_classifier.hdf5\n",
      "31/31 [==============================] - 0s 11ms/step - loss: 0.5761 - accuracy: 0.7797 - val_loss: 0.2265 - val_accuracy: 0.9644\n",
      "Epoch 116/1000\n",
      "25/31 [=======================>......] - ETA: 0s - loss: 0.5762 - accuracy: 0.7872\n",
      "Epoch 116: saving model to model/keypoint_classifier\\keypoint_classifier.hdf5\n",
      "31/31 [==============================] - 0s 8ms/step - loss: 0.5729 - accuracy: 0.7869 - val_loss: 0.2270 - val_accuracy: 0.9636\n",
      "Epoch 117/1000\n",
      "31/31 [==============================] - ETA: 0s - loss: 0.5759 - accuracy: 0.7864\n",
      "Epoch 117: saving model to model/keypoint_classifier\\keypoint_classifier.hdf5\n",
      "31/31 [==============================] - 0s 7ms/step - loss: 0.5759 - accuracy: 0.7864 - val_loss: 0.2297 - val_accuracy: 0.9667\n",
      "Epoch 118/1000\n",
      "28/31 [==========================>...] - ETA: 0s - loss: 0.5825 - accuracy: 0.7829\n",
      "Epoch 118: saving model to model/keypoint_classifier\\keypoint_classifier.hdf5\n",
      "31/31 [==============================] - 0s 7ms/step - loss: 0.5736 - accuracy: 0.7866 - val_loss: 0.2373 - val_accuracy: 0.9559\n",
      "Epoch 119/1000\n",
      "30/31 [============================>.] - ETA: 0s - loss: 0.5606 - accuracy: 0.7880\n",
      "Epoch 119: saving model to model/keypoint_classifier\\keypoint_classifier.hdf5\n",
      "31/31 [==============================] - 0s 15ms/step - loss: 0.5593 - accuracy: 0.7882 - val_loss: 0.2255 - val_accuracy: 0.9636\n",
      "Epoch 120/1000\n",
      "26/31 [========================>.....] - ETA: 0s - loss: 0.5638 - accuracy: 0.7915\n",
      "Epoch 120: saving model to model/keypoint_classifier\\keypoint_classifier.hdf5\n",
      "31/31 [==============================] - 1s 17ms/step - loss: 0.5666 - accuracy: 0.7895 - val_loss: 0.2235 - val_accuracy: 0.9675\n",
      "Epoch 121/1000\n",
      "18/31 [================>.............] - ETA: 0s - loss: 0.5974 - accuracy: 0.7908\n",
      "Epoch 121: saving model to model/keypoint_classifier\\keypoint_classifier.hdf5\n",
      "31/31 [==============================] - 0s 8ms/step - loss: 0.5774 - accuracy: 0.7951 - val_loss: 0.2405 - val_accuracy: 0.9536\n",
      "Epoch 122/1000\n",
      "19/31 [=================>............] - ETA: 0s - loss: 0.5498 - accuracy: 0.7973\n",
      "Epoch 122: saving model to model/keypoint_classifier\\keypoint_classifier.hdf5\n",
      "31/31 [==============================] - 0s 10ms/step - loss: 0.5527 - accuracy: 0.8024 - val_loss: 0.2298 - val_accuracy: 0.9605\n",
      "Epoch 123/1000\n",
      "27/31 [=========================>....] - ETA: 0s - loss: 0.5578 - accuracy: 0.7899\n",
      "Epoch 123: saving model to model/keypoint_classifier\\keypoint_classifier.hdf5\n",
      "31/31 [==============================] - 0s 12ms/step - loss: 0.5598 - accuracy: 0.7895 - val_loss: 0.2240 - val_accuracy: 0.9613\n",
      "Epoch 124/1000\n",
      "30/31 [============================>.] - ETA: 0s - loss: 0.5679 - accuracy: 0.7917\n",
      "Epoch 124: saving model to model/keypoint_classifier\\keypoint_classifier.hdf5\n",
      "31/31 [==============================] - 0s 7ms/step - loss: 0.5684 - accuracy: 0.7910 - val_loss: 0.2286 - val_accuracy: 0.9559\n",
      "Epoch 125/1000\n",
      "25/31 [=======================>......] - ETA: 0s - loss: 0.5897 - accuracy: 0.7775\n",
      "Epoch 125: saving model to model/keypoint_classifier\\keypoint_classifier.hdf5\n",
      "31/31 [==============================] - 0s 9ms/step - loss: 0.5855 - accuracy: 0.7812 - val_loss: 0.2248 - val_accuracy: 0.9644\n",
      "Epoch 126/1000\n",
      "24/31 [======================>.......] - ETA: 0s - loss: 0.5892 - accuracy: 0.7839\n",
      "Epoch 126: saving model to model/keypoint_classifier\\keypoint_classifier.hdf5\n",
      "31/31 [==============================] - 0s 8ms/step - loss: 0.5874 - accuracy: 0.7859 - val_loss: 0.2385 - val_accuracy: 0.9474\n",
      "Epoch 127/1000\n",
      "27/31 [=========================>....] - ETA: 0s - loss: 0.5591 - accuracy: 0.7894\n",
      "Epoch 127: saving model to model/keypoint_classifier\\keypoint_classifier.hdf5\n",
      "31/31 [==============================] - 0s 14ms/step - loss: 0.5637 - accuracy: 0.7877 - val_loss: 0.2247 - val_accuracy: 0.9636\n",
      "Epoch 128/1000\n",
      "30/31 [============================>.] - ETA: 0s - loss: 0.5603 - accuracy: 0.7961\n",
      "Epoch 128: saving model to model/keypoint_classifier\\keypoint_classifier.hdf5\n",
      "31/31 [==============================] - 0s 9ms/step - loss: 0.5595 - accuracy: 0.7962 - val_loss: 0.2218 - val_accuracy: 0.9636\n",
      "Epoch 129/1000\n",
      "22/31 [====================>.........] - ETA: 0s - loss: 0.5694 - accuracy: 0.7940\n",
      "Epoch 129: saving model to model/keypoint_classifier\\keypoint_classifier.hdf5\n",
      "31/31 [==============================] - 0s 10ms/step - loss: 0.5655 - accuracy: 0.7939 - val_loss: 0.2297 - val_accuracy: 0.9559\n",
      "Epoch 130/1000\n",
      "23/31 [=====================>........] - ETA: 0s - loss: 0.6008 - accuracy: 0.7765\n",
      "Epoch 130: saving model to model/keypoint_classifier\\keypoint_classifier.hdf5\n",
      "31/31 [==============================] - 0s 9ms/step - loss: 0.6029 - accuracy: 0.7771 - val_loss: 0.2308 - val_accuracy: 0.9551\n",
      "Epoch 131/1000\n",
      "22/31 [====================>.........] - ETA: 0s - loss: 0.5647 - accuracy: 0.7937\n",
      "Epoch 131: saving model to model/keypoint_classifier\\keypoint_classifier.hdf5\n",
      "31/31 [==============================] - 0s 10ms/step - loss: 0.5616 - accuracy: 0.7946 - val_loss: 0.2287 - val_accuracy: 0.9567\n",
      "Epoch 132/1000\n",
      "25/31 [=======================>......] - ETA: 0s - loss: 0.5782 - accuracy: 0.7872\n",
      "Epoch 132: saving model to model/keypoint_classifier\\keypoint_classifier.hdf5\n",
      "31/31 [==============================] - 0s 8ms/step - loss: 0.5824 - accuracy: 0.7846 - val_loss: 0.2300 - val_accuracy: 0.9598\n",
      "Epoch 133/1000\n",
      "28/31 [==========================>...] - ETA: 0s - loss: 0.5545 - accuracy: 0.7893\n",
      "Epoch 133: saving model to model/keypoint_classifier\\keypoint_classifier.hdf5\n",
      "31/31 [==============================] - 0s 9ms/step - loss: 0.5615 - accuracy: 0.7861 - val_loss: 0.2256 - val_accuracy: 0.9574\n",
      "Epoch 134/1000\n",
      "22/31 [====================>.........] - ETA: 0s - loss: 0.5489 - accuracy: 0.8001\n",
      "Epoch 134: saving model to model/keypoint_classifier\\keypoint_classifier.hdf5\n",
      "31/31 [==============================] - 0s 13ms/step - loss: 0.5612 - accuracy: 0.7921 - val_loss: 0.2319 - val_accuracy: 0.9582\n",
      "Epoch 134: early stopping\n"
     ]
    },
    {
     "data": {
      "text/plain": [
       "<keras.src.callbacks.History at 0x232d19cce50>"
      ]
     },
     "execution_count": 11,
     "metadata": {},
     "output_type": "execute_result"
    }
   ],
   "source": [
    "model.fit(\n",
    "    X_train,\n",
    "    y_train,\n",
    "    epochs=1000,\n",
    "    batch_size=128,\n",
    "    validation_data=(X_test, y_test),\n",
    "    callbacks=[cp_callback, es_callback]\n",
    ")"
   ]
  },
  {
   "cell_type": "code",
   "execution_count": 12,
   "metadata": {
    "colab": {
     "base_uri": "https://localhost:8080/"
    },
    "id": "pxvb2Y299hE3",
    "outputId": "59eb3185-2e37-4b9e-bc9d-ab1b8ac29b7f"
   },
   "outputs": [
    {
     "name": "stdout",
     "output_type": "stream",
     "text": [
      "11/11 [==============================] - 0s 4ms/step - loss: 0.2319 - accuracy: 0.9582\n"
     ]
    }
   ],
   "source": [
    "# Model evaluation\n",
    "val_loss, val_acc = model.evaluate(X_test, y_test, batch_size=128)"
   ]
  },
  {
   "cell_type": "code",
   "execution_count": 13,
   "metadata": {
    "id": "RBkmDeUW9hE4"
   },
   "outputs": [],
   "source": [
    "# Loading the saved model\n",
    "model = tf.keras.models.load_model(model_save_path)"
   ]
  },
  {
   "cell_type": "code",
   "execution_count": 14,
   "metadata": {
    "colab": {
     "base_uri": "https://localhost:8080/"
    },
    "id": "tFz9Tb0I9hE4",
    "outputId": "1c3b3528-54ae-4ee2-ab04-77429211cbef"
   },
   "outputs": [
    {
     "name": "stdout",
     "output_type": "stream",
     "text": [
      "1/1 [==============================] - 0s 216ms/step\n",
      "[7.0646524e-02 6.1198944e-01 2.6696461e-01 4.4080723e-04 4.9958572e-02]\n",
      "1\n"
     ]
    }
   ],
   "source": [
    "# Inference test\n",
    "predict_result = model.predict(np.array([X_test[0]]))\n",
    "print(np.squeeze(predict_result))\n",
    "print(np.argmax(np.squeeze(predict_result)))"
   ]
  },
  {
   "cell_type": "markdown",
   "metadata": {
    "id": "S3U4yNWx9hE4"
   },
   "source": [
    "# Confusion matrix"
   ]
  },
  {
   "cell_type": "code",
   "execution_count": 15,
   "metadata": {
    "colab": {
     "base_uri": "https://localhost:8080/",
     "height": 582
    },
    "id": "AP1V6SCk9hE5",
    "outputId": "08e41a80-7a4a-4619-8125-ecc371368d19"
   },
   "outputs": [
    {
     "ename": "ModuleNotFoundError",
     "evalue": "No module named 'seaborn'",
     "output_type": "error",
     "traceback": [
      "\u001b[1;31m------------------------------------------------------------------------\u001b[0m",
      "\u001b[1;31mModuleNotFoundError\u001b[0m                    Traceback (most recent call last)",
      "Cell \u001b[1;32mIn[15], line 2\u001b[0m\n\u001b[0;32m      1\u001b[0m \u001b[38;5;28;01mimport\u001b[39;00m\u001b[38;5;250m \u001b[39m\u001b[38;5;21;01mpandas\u001b[39;00m\u001b[38;5;250m \u001b[39m\u001b[38;5;28;01mas\u001b[39;00m\u001b[38;5;250m \u001b[39m\u001b[38;5;21;01mpd\u001b[39;00m\n\u001b[1;32m----> 2\u001b[0m \u001b[38;5;28;01mimport\u001b[39;00m\u001b[38;5;250m \u001b[39m\u001b[38;5;21;01mseaborn\u001b[39;00m\u001b[38;5;250m \u001b[39m\u001b[38;5;28;01mas\u001b[39;00m\u001b[38;5;250m \u001b[39m\u001b[38;5;21;01msns\u001b[39;00m\n\u001b[0;32m      3\u001b[0m \u001b[38;5;28;01mimport\u001b[39;00m\u001b[38;5;250m \u001b[39m\u001b[38;5;21;01mmatplotlib\u001b[39;00m\u001b[38;5;21;01m.\u001b[39;00m\u001b[38;5;21;01mpyplot\u001b[39;00m\u001b[38;5;250m \u001b[39m\u001b[38;5;28;01mas\u001b[39;00m\u001b[38;5;250m \u001b[39m\u001b[38;5;21;01mplt\u001b[39;00m\n\u001b[0;32m      4\u001b[0m \u001b[38;5;28;01mfrom\u001b[39;00m\u001b[38;5;250m \u001b[39m\u001b[38;5;21;01msklearn\u001b[39;00m\u001b[38;5;21;01m.\u001b[39;00m\u001b[38;5;21;01mmetrics\u001b[39;00m\u001b[38;5;250m \u001b[39m\u001b[38;5;28;01mimport\u001b[39;00m confusion_matrix, classification_report\n",
      "\u001b[1;31mModuleNotFoundError\u001b[0m: No module named 'seaborn'"
     ]
    }
   ],
   "source": [
    "import pandas as pd\n",
    "import seaborn as sns\n",
    "import matplotlib.pyplot as plt\n",
    "from sklearn.metrics import confusion_matrix, classification_report\n",
    "\n",
    "def print_confusion_matrix(y_true, y_pred, report=True):\n",
    "    labels = sorted(list(set(y_true)))\n",
    "    cmx_data = confusion_matrix(y_true, y_pred, labels=labels)\n",
    "    \n",
    "    df_cmx = pd.DataFrame(cmx_data, index=labels, columns=labels)\n",
    " \n",
    "    fig, ax = plt.subplots(figsize=(7, 6))\n",
    "    sns.heatmap(df_cmx, annot=True, fmt='g' ,square=False)\n",
    "    ax.set_ylim(len(set(y_true)), 0)\n",
    "    plt.show()\n",
    "    \n",
    "    if report:\n",
    "        print('Classification Report')\n",
    "        print(classification_report(y_test, y_pred))\n",
    "\n",
    "Y_pred = model.predict(X_test)\n",
    "y_pred = np.argmax(Y_pred, axis=1)\n",
    "\n",
    "print_confusion_matrix(y_test, y_pred)"
   ]
  },
  {
   "cell_type": "markdown",
   "metadata": {
    "id": "FNP6aqzc9hE5"
   },
   "source": [
    "# Convert to model for Tensorflow-Lite"
   ]
  },
  {
   "cell_type": "code",
   "execution_count": null,
   "metadata": {
    "id": "ODjnYyld9hE6"
   },
   "outputs": [],
   "source": [
    "# Save as a model dedicated to inference\n",
    "model.save(model_save_path, include_optimizer=False)"
   ]
  },
  {
   "cell_type": "code",
   "execution_count": null,
   "metadata": {
    "colab": {
     "base_uri": "https://localhost:8080/"
    },
    "id": "zRfuK8Y59hE6",
    "outputId": "a4ca585c-b5d5-4244-8291-8674063209bb"
   },
   "outputs": [],
   "source": [
    "# Transform model (quantization)\n",
    "\n",
    "converter = tf.lite.TFLiteConverter.from_keras_model(model)\n",
    "converter.optimizations = [tf.lite.Optimize.DEFAULT]\n",
    "tflite_quantized_model = converter.convert()\n",
    "\n",
    "open(tflite_save_path, 'wb').write(tflite_quantized_model)"
   ]
  },
  {
   "cell_type": "markdown",
   "metadata": {
    "id": "CHBPBXdx9hE6"
   },
   "source": [
    "# Inference test"
   ]
  },
  {
   "cell_type": "code",
   "execution_count": null,
   "metadata": {
    "id": "mGAzLocO9hE7"
   },
   "outputs": [],
   "source": [
    "interpreter = tf.lite.Interpreter(model_path=tflite_save_path)\n",
    "interpreter.allocate_tensors()"
   ]
  },
  {
   "cell_type": "code",
   "execution_count": null,
   "metadata": {
    "id": "oQuDK8YS9hE7"
   },
   "outputs": [],
   "source": [
    "# Get I / O tensor\n",
    "input_details = interpreter.get_input_details()\n",
    "output_details = interpreter.get_output_details()"
   ]
  },
  {
   "cell_type": "code",
   "execution_count": null,
   "metadata": {
    "id": "2_ixAf_l9hE7"
   },
   "outputs": [],
   "source": [
    "interpreter.set_tensor(input_details[0]['index'], np.array([X_test[0]]))"
   ]
  },
  {
   "cell_type": "code",
   "execution_count": null,
   "metadata": {
    "colab": {
     "base_uri": "https://localhost:8080/"
    },
    "id": "s4FoAnuc9hE7",
    "outputId": "91f18257-8d8b-4ef3-c558-e9b5f94fabbf",
    "scrolled": true
   },
   "outputs": [],
   "source": [
    "%%time\n",
    "# Inference implementation\n",
    "interpreter.invoke()\n",
    "tflite_results = interpreter.get_tensor(output_details[0]['index'])"
   ]
  },
  {
   "cell_type": "code",
   "execution_count": null,
   "metadata": {
    "colab": {
     "base_uri": "https://localhost:8080/"
    },
    "id": "vONjp19J9hE8",
    "outputId": "77205e24-fd00-42c4-f7b6-e06e527c2cba"
   },
   "outputs": [],
   "source": [
    "print(np.squeeze(tflite_results))\n",
    "print(np.argmax(np.squeeze(tflite_results)))"
   ]
  }
 ],
 "metadata": {
  "accelerator": "GPU",
  "colab": {
   "collapsed_sections": [],
   "name": "keypoint_classification_EN.ipynb",
   "provenance": [],
   "toc_visible": true
  },
  "kernelspec": {
   "display_name": "Python 3 (ipykernel)",
   "language": "python",
   "name": "python3"
  },
  "language_info": {
   "codemirror_mode": {
    "name": "ipython",
    "version": 3
   },
   "file_extension": ".py",
   "mimetype": "text/x-python",
   "name": "python",
   "nbconvert_exporter": "python",
   "pygments_lexer": "ipython3",
   "version": "3.10.11"
  }
 },
 "nbformat": 4,
 "nbformat_minor": 4
}
